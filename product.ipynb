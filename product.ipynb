{
 "cells": [
  {
   "cell_type": "code",
   "execution_count": 20,
   "id": "82789423-1450-4561-995f-55da53bf57d8",
   "metadata": {},
   "outputs": [],
   "source": [
    "from faker import Faker\n",
    "import random \n",
    "import pandas as pd"
   ]
  },
  {
   "cell_type": "code",
   "execution_count": 21,
   "id": "558fbe5d-64c6-4f42-acb1-a4f95e26fdf8",
   "metadata": {},
   "outputs": [],
   "source": [
    "fake = Faker()\n",
    "\n",
    "def generate_dummy_data(num_products=10):\n",
    "    data = []\n",
    "    for _ in range(num_products):\n",
    "        brand = random.choice([\"Apple\", \"Motorola\", \"Realme\", \"Samsung\", \"Nokia\", \"Vivo\", \"Oppo\", \"Reno\", \"Techno\"])\n",
    "        if brand == \"Apple\":\n",
    "            operating_system = \"iOS\"\n",
    "        else:\n",
    "            operating_system = random.choice([\"Android\", \"iOS\"])\n",
    "        \n",
    "        price = round(random.uniform(1000, 200000), 2)\n",
    "        screen_size = round(random.uniform(4, 7), 1)\n",
    "        storage = random.choice([32, 64, 128, 256, 512])\n",
    "        ram = random.choice([2, 4, 6, 8, 12])\n",
    "        camera = fake.random_element(elements=('12MP', '16MP', '20MP', '24MP'))\n",
    "        \n",
    "        data.append((brand, price, screen_size, storage, ram, camera))\n",
    "    \n",
    "    return data"
   ]
  },
  {
   "cell_type": "code",
   "execution_count": 22,
   "id": "1a82b0db-ffa9-48d3-8b81-c436a1c567ab",
   "metadata": {},
   "outputs": [
    {
     "name": "stdout",
     "output_type": "stream",
     "text": [
      "Shape: (300, 6)\n",
      "      Brand      Price  Screen_Size  Storage  Ram Camera\n",
      "0     Apple  180888.49          5.1      256    8   20MP\n",
      "1     Nokia  108209.20          6.1      128    6   12MP\n",
      "2    Realme  108222.83          6.7      256   12   20MP\n",
      "3     Nokia    3612.62          5.2      128    4   16MP\n",
      "4     Apple   64223.75          5.5      512    2   16MP\n",
      "..      ...        ...          ...      ...  ...    ...\n",
      "295   Nokia    8616.71          6.1       64    6   24MP\n",
      "296    Oppo   95464.03          5.3      128    8   16MP\n",
      "297    Reno   95625.07          5.3      256    8   24MP\n",
      "298   Apple  153252.96          6.6       64    4   24MP\n",
      "299   Nokia  154598.06          5.2       32    8   20MP\n",
      "\n",
      "[300 rows x 6 columns]\n"
     ]
    }
   ],
   "source": [
    "dummy_data = generate_dummy_data(300)\n",
    "df = pd.DataFrame(dummy_data, columns=['Brand','Price', 'Screen_Size', 'Storage', 'Ram', 'Camera'])\n",
    "print(\"Shape:\", df.shape)\n",
    "print(df)"
   ]
  },
  {
   "cell_type": "code",
   "execution_count": 23,
   "id": "2e0d4604-99f4-41f7-85fe-4bff50e4b41c",
   "metadata": {},
   "outputs": [],
   "source": [
    "import mysql.connector\n",
    "\n",
    "# Connect to MySQL\n",
    "conn = mysql.connector.connect(\n",
    "    host=\"127.0.0.1\",\n",
    "    user=\"root\",\n",
    "    password=\"moyemoye\",\n",
    "    database=\"phone_products\"\n",
    ")\n",
    "\n",
    "# Create a cursor object\n",
    "cursor = conn.cursor()"
   ]
  },
  {
   "cell_type": "code",
   "execution_count": 24,
   "id": "22295216-255b-49e7-be06-92b2778158da",
   "metadata": {},
   "outputs": [],
   "source": [
    "# Insert dummy data into the database\n",
    "for row in df.itertuples():\n",
    "    query = \"INSERT INTO products (brand, price, screen_size, storage, ram, camera) VALUES (%s, %s, %s, %s, %s, %s)\"\n",
    "    values = (row.Brand, row.Price, row.Screen_Size, row.Storage, row.Ram, row.Camera)\n",
    "    cursor.execute(query, values)\n",
    "\n",
    "# Commit the changes\n",
    "conn.commit()\n",
    "\n",
    "# Close the cursor and connection\n",
    "cursor.close()\n",
    "conn.close()\n"
   ]
  },
  {
   "cell_type": "code",
   "execution_count": 25,
   "id": "c21f9e53-baa3-472e-a390-a2072e5684dc",
   "metadata": {},
   "outputs": [
    {
     "name": "stdout",
     "output_type": "stream",
     "text": [
      "   id    brand      price  screen_size  storage  ram camera\n",
      "0   1     Oppo  173375.48          6.4       64    2   20MP\n",
      "1   2     Reno  179752.04          6.2      256    4   24MP\n",
      "2   3   Realme   72649.45          6.3       64   12   12MP\n",
      "3   4    Apple   48353.35          5.6      128    4   12MP\n",
      "4   5  Samsung  136550.16          7.0       32    6   24MP\n"
     ]
    },
    {
     "name": "stderr",
     "output_type": "stream",
     "text": [
      "C:\\Users\\sahga\\AppData\\Local\\Temp\\ipykernel_5472\\3075068444.py:15: UserWarning: pandas only supports SQLAlchemy connectable (engine/connection) or database string URI or sqlite3 DBAPI2 connection. Other DBAPI2 objects are not tested. Please consider using SQLAlchemy.\n",
      "  df = pd.read_sql(query, conn)\n"
     ]
    }
   ],
   "source": [
    "import mysql.connector\n",
    "import pandas as pd\n",
    "\n",
    "# Connect to MySQL\n",
    "conn = mysql.connector.connect(\n",
    "    host=\"127.0.0.1\",\n",
    "    user=\"root\",\n",
    "    password=\"moyemoye\",\n",
    "    database=\"phone_products\"\n",
    ")\n",
    "# Query to retrieve data\n",
    "query = \"SELECT * FROM products\"\n",
    "\n",
    "# Load data into a DataFrame\n",
    "df = pd.read_sql(query, conn)\n",
    "\n",
    "# Close the connection\n",
    "conn.close()\n",
    "\n",
    "# Display the first few rows of the DataFrame to verify the data\n",
    "print(df.head())\n"
   ]
  },
  {
   "cell_type": "code",
   "execution_count": 26,
   "id": "83600a4d-8853-4064-9442-c6fb41013f7e",
   "metadata": {},
   "outputs": [],
   "source": [
    "from sklearn.model_selection import train_test_split\n",
    "from sklearn.linear_model import LinearRegression\n",
    "from sklearn.metrics import mean_squared_error"
   ]
  },
  {
   "cell_type": "code",
   "execution_count": 27,
   "id": "0a40fb0c-1949-4054-976a-bbb634357144",
   "metadata": {},
   "outputs": [],
   "source": [
    "# Split the data into features (X) and target variable (y)\n",
    "X = df[['screen_size', 'storage', 'ram']]\n",
    "y = df['price']\n"
   ]
  },
  {
   "cell_type": "code",
   "execution_count": 28,
   "id": "96d9e9ba-139c-4ebd-bcc6-0277174525ff",
   "metadata": {},
   "outputs": [],
   "source": [
    "# Split the data into training and testing sets\n",
    "X_train, X_test, y_train, y_test = train_test_split(X, y, test_size=0.2, random_state=42)"
   ]
  },
  {
   "cell_type": "code",
   "execution_count": 29,
   "id": "61ee4b0f-8e53-4fdf-b4b6-a5412e344b56",
   "metadata": {},
   "outputs": [
    {
     "data": {
      "text/html": [
       "<style>#sk-container-id-2 {color: black;background-color: white;}#sk-container-id-2 pre{padding: 0;}#sk-container-id-2 div.sk-toggleable {background-color: white;}#sk-container-id-2 label.sk-toggleable__label {cursor: pointer;display: block;width: 100%;margin-bottom: 0;padding: 0.3em;box-sizing: border-box;text-align: center;}#sk-container-id-2 label.sk-toggleable__label-arrow:before {content: \"▸\";float: left;margin-right: 0.25em;color: #696969;}#sk-container-id-2 label.sk-toggleable__label-arrow:hover:before {color: black;}#sk-container-id-2 div.sk-estimator:hover label.sk-toggleable__label-arrow:before {color: black;}#sk-container-id-2 div.sk-toggleable__content {max-height: 0;max-width: 0;overflow: hidden;text-align: left;background-color: #f0f8ff;}#sk-container-id-2 div.sk-toggleable__content pre {margin: 0.2em;color: black;border-radius: 0.25em;background-color: #f0f8ff;}#sk-container-id-2 input.sk-toggleable__control:checked~div.sk-toggleable__content {max-height: 200px;max-width: 100%;overflow: auto;}#sk-container-id-2 input.sk-toggleable__control:checked~label.sk-toggleable__label-arrow:before {content: \"▾\";}#sk-container-id-2 div.sk-estimator input.sk-toggleable__control:checked~label.sk-toggleable__label {background-color: #d4ebff;}#sk-container-id-2 div.sk-label input.sk-toggleable__control:checked~label.sk-toggleable__label {background-color: #d4ebff;}#sk-container-id-2 input.sk-hidden--visually {border: 0;clip: rect(1px 1px 1px 1px);clip: rect(1px, 1px, 1px, 1px);height: 1px;margin: -1px;overflow: hidden;padding: 0;position: absolute;width: 1px;}#sk-container-id-2 div.sk-estimator {font-family: monospace;background-color: #f0f8ff;border: 1px dotted black;border-radius: 0.25em;box-sizing: border-box;margin-bottom: 0.5em;}#sk-container-id-2 div.sk-estimator:hover {background-color: #d4ebff;}#sk-container-id-2 div.sk-parallel-item::after {content: \"\";width: 100%;border-bottom: 1px solid gray;flex-grow: 1;}#sk-container-id-2 div.sk-label:hover label.sk-toggleable__label {background-color: #d4ebff;}#sk-container-id-2 div.sk-serial::before {content: \"\";position: absolute;border-left: 1px solid gray;box-sizing: border-box;top: 0;bottom: 0;left: 50%;z-index: 0;}#sk-container-id-2 div.sk-serial {display: flex;flex-direction: column;align-items: center;background-color: white;padding-right: 0.2em;padding-left: 0.2em;position: relative;}#sk-container-id-2 div.sk-item {position: relative;z-index: 1;}#sk-container-id-2 div.sk-parallel {display: flex;align-items: stretch;justify-content: center;background-color: white;position: relative;}#sk-container-id-2 div.sk-item::before, #sk-container-id-2 div.sk-parallel-item::before {content: \"\";position: absolute;border-left: 1px solid gray;box-sizing: border-box;top: 0;bottom: 0;left: 50%;z-index: -1;}#sk-container-id-2 div.sk-parallel-item {display: flex;flex-direction: column;z-index: 1;position: relative;background-color: white;}#sk-container-id-2 div.sk-parallel-item:first-child::after {align-self: flex-end;width: 50%;}#sk-container-id-2 div.sk-parallel-item:last-child::after {align-self: flex-start;width: 50%;}#sk-container-id-2 div.sk-parallel-item:only-child::after {width: 0;}#sk-container-id-2 div.sk-dashed-wrapped {border: 1px dashed gray;margin: 0 0.4em 0.5em 0.4em;box-sizing: border-box;padding-bottom: 0.4em;background-color: white;}#sk-container-id-2 div.sk-label label {font-family: monospace;font-weight: bold;display: inline-block;line-height: 1.2em;}#sk-container-id-2 div.sk-label-container {text-align: center;}#sk-container-id-2 div.sk-container {/* jupyter's `normalize.less` sets `[hidden] { display: none; }` but bootstrap.min.css set `[hidden] { display: none !important; }` so we also need the `!important` here to be able to override the default hidden behavior on the sphinx rendered scikit-learn.org. See: https://github.com/scikit-learn/scikit-learn/issues/21755 */display: inline-block !important;position: relative;}#sk-container-id-2 div.sk-text-repr-fallback {display: none;}</style><div id=\"sk-container-id-2\" class=\"sk-top-container\"><div class=\"sk-text-repr-fallback\"><pre>LinearRegression()</pre><b>In a Jupyter environment, please rerun this cell to show the HTML representation or trust the notebook. <br />On GitHub, the HTML representation is unable to render, please try loading this page with nbviewer.org.</b></div><div class=\"sk-container\" hidden><div class=\"sk-item\"><div class=\"sk-estimator sk-toggleable\"><input class=\"sk-toggleable__control sk-hidden--visually\" id=\"sk-estimator-id-2\" type=\"checkbox\" checked><label for=\"sk-estimator-id-2\" class=\"sk-toggleable__label sk-toggleable__label-arrow\">LinearRegression</label><div class=\"sk-toggleable__content\"><pre>LinearRegression()</pre></div></div></div></div></div>"
      ],
      "text/plain": [
       "LinearRegression()"
      ]
     },
     "execution_count": 29,
     "metadata": {},
     "output_type": "execute_result"
    }
   ],
   "source": [
    "# Choose a regression algorithm and train the model\n",
    "model = LinearRegression()\n",
    "model.fit(X_train, y_train)"
   ]
  },
  {
   "cell_type": "code",
   "execution_count": 30,
   "id": "f5221aed-08a8-45d9-8778-b8cd18ff1de2",
   "metadata": {},
   "outputs": [
    {
     "name": "stdout",
     "output_type": "stream",
     "text": [
      "Mean Squared Error: 3135851040.198447\n"
     ]
    }
   ],
   "source": [
    "# Evaluate the model\n",
    "y_pred = model.predict(X_test)\n",
    "mse = mean_squared_error(y_test, y_pred)\n",
    "print(\"Mean Squared Error:\", mse)"
   ]
  },
  {
   "cell_type": "code",
   "execution_count": 31,
   "id": "4e84f1a4-dbfc-4ee5-bff0-f844ca4983e5",
   "metadata": {},
   "outputs": [],
   "source": [
    "import tkinter as tk\n",
    "from tkinter import messagebox"
   ]
  },
  {
   "cell_type": "code",
   "execution_count": 32,
   "id": "91e0100b-3d49-4e64-a105-a7baf7bef612",
   "metadata": {},
   "outputs": [
    {
     "data": {
      "text/plain": [
       "''"
      ]
     },
     "execution_count": 32,
     "metadata": {},
     "output_type": "execute_result"
    }
   ],
   "source": [
    "# Create a Tkinter window\n",
    "window = tk.Tk()\n",
    "window.title(\"Product Price Predictor\")"
   ]
  },
  {
   "cell_type": "code",
   "execution_count": 33,
   "id": "4861a9be-ed35-4cdd-a17e-4e11dd425d3e",
   "metadata": {},
   "outputs": [],
   "source": [
    "# Function to make price prediction\n",
    "def predict_price():\n",
    "    # Get input values from entry fields\n",
    "    screen_size = float(screen_size_entry.get())\n",
    "    storage = int(storage_entry.get())\n",
    "    ram = int(ram_entry.get())\n",
    "    \n",
    "    # Make prediction using the trained model\n",
    "    predicted_price = model.predict([[screen_size, storage, ram]])\n",
    "    \n",
    "    # Display the predicted price\n",
    "    messagebox.showinfo(\"Price Prediction\", f\"Predicted Price: Rs {predicted_price[0]:.2f}\")"
   ]
  },
  {
   "cell_type": "code",
   "execution_count": 34,
   "id": "102a6174-fce0-49f9-9d28-d5e90d80a065",
   "metadata": {},
   "outputs": [
    {
     "name": "stderr",
     "output_type": "stream",
     "text": [
      "C:\\Users\\sahga\\AppData\\Local\\Programs\\Python\\Python39\\lib\\site-packages\\sklearn\\base.py:439: UserWarning: X does not have valid feature names, but LinearRegression was fitted with feature names\n",
      "  warnings.warn(\n"
     ]
    }
   ],
   "source": [
    "# GUI elements\n",
    "screen_size_label = tk.Label(window, text=\"Screen Size (inches):\")\n",
    "screen_size_label.grid(row=0, column=0)\n",
    "\n",
    "screen_size_entry = tk.Entry(window)\n",
    "screen_size_entry.grid(row=0, column=1)\n",
    "\n",
    "storage_label = tk.Label(window, text=\"Storage (GB):\")\n",
    "storage_label.grid(row=1, column=0)\n",
    "\n",
    "storage_entry = tk.Entry(window)\n",
    "storage_entry.grid(row=1, column=1)\n",
    "\n",
    "ram_label = tk.Label(window, text=\"RAM (GB):\")\n",
    "ram_label.grid(row=2, column=0)\n",
    "\n",
    "ram_entry = tk.Entry(window)\n",
    "ram_entry.grid(row=2, column=1)\n",
    "\n",
    "predict_button = tk.Button(window, text=\"Predict Price\", command=predict_price)\n",
    "predict_button.grid(row=3, column=0, columnspan=2)\n",
    "\n",
    "# Run the Tkinter event loop\n",
    "window.mainloop()"
   ]
  },
  {
   "cell_type": "code",
   "execution_count": null,
   "id": "98809315-c0c5-4c75-bf0b-b2e0428b8beb",
   "metadata": {},
   "outputs": [],
   "source": []
  }
 ],
 "metadata": {
  "kernelspec": {
   "display_name": "Python 3 (ipykernel)",
   "language": "python",
   "name": "python3"
  },
  "language_info": {
   "codemirror_mode": {
    "name": "ipython",
    "version": 3
   },
   "file_extension": ".py",
   "mimetype": "text/x-python",
   "name": "python",
   "nbconvert_exporter": "python",
   "pygments_lexer": "ipython3",
   "version": "3.9.13"
  }
 },
 "nbformat": 4,
 "nbformat_minor": 5
}
